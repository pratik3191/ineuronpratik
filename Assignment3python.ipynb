{
 "cells": [
  {
   "cell_type": "markdown",
   "id": "developing-sterling",
   "metadata": {},
   "source": [
    "Q1. Why are functions advantageous to have in your programs?\n",
    "\n",
    "- Answer -\n",
    "Functions reduce the need for duplicate code. This makes programs shorter, easier to read, and easier to update.\n",
    "Functions enable the reuseablity of the code, improve maintainability and scalability of the code. We can use a code multiple time's with the help of function."
   ]
  },
  {
   "cell_type": "markdown",
   "id": "signal-combine",
   "metadata": {},
   "source": [
    "Q2.When does the code in a function run: when it's specified or when it's called?\n",
    "\n",
    "- Answer - The code in a function executes when the function is called, not when the function is defined.\n",
    "\n"
   ]
  },
  {
   "cell_type": "markdown",
   "id": "urban-category",
   "metadata": {},
   "source": [
    "Q3.What statement creates a function?\n",
    "\n",
    "- Answer - The def statement is used to create a function for eg. def my_func():.\n"
   ]
  },
  {
   "cell_type": "markdown",
   "id": "visible-cotton",
   "metadata": {},
   "source": [
    "Q4. What is the difference between a function and a function call?\n",
    "\n",
    "- Answer -A function consists of the def statement and the code in the body of the function. A function call is used move the program execution into the function, and the function call evaluates to the function's return value.\n"
   ]
  },
  {
   "cell_type": "markdown",
   "id": "continued-obligation",
   "metadata": {},
   "source": [
    "Q5.How many global scopes are there in a Python program? How many local scopes?\n",
    "\n",
    "- Answer - There is one global scope in a python program, and there can be n number of local scope scopes in a program when ever a variable is created inside a function it belongs to local scope."
   ]
  },
  {
   "cell_type": "markdown",
   "id": "organized-novel",
   "metadata": {},
   "source": [
    "Q6.What happens to variables in a local scope when the function call returns?\n",
    "\n",
    "- Answer -When a funtion call return the variables in a local scope are destroyed and not retained."
   ]
  },
  {
   "cell_type": "markdown",
   "id": "hourly-lancaster",
   "metadata": {},
   "source": [
    "Q7.What is the concept of a return value? Is it possible to have a return value in an expression?\n",
    "\n",
    "- Answer -A return value is the value that a function call returns after evaluation. Yes it is possible to have a return value in an expression"
   ]
  },
  {
   "cell_type": "markdown",
   "id": "polyphonic-cartridge",
   "metadata": {},
   "source": [
    "Q8.If a function does not have a return statement, what is the return value of a call to that function?\n",
    "\n",
    "- Answer -If a function does not have a return statement, its return value is None."
   ]
  },
  {
   "cell_type": "markdown",
   "id": "silent-judgment",
   "metadata": {},
   "source": [
    "Q9.How do you make a function variable refer to the global variable?\n",
    "\n",
    "- Answer -If we want to make a function variable refer to global variable we can do it by declaring the variable with the use of global keyword."
   ]
  },
  {
   "cell_type": "markdown",
   "id": "spiritual-sister",
   "metadata": {},
   "source": [
    "Q10. What is the data type of None?\n",
    "\n",
    "- Answer -The data type of None is NoneType.\n"
   ]
  },
  {
   "cell_type": "markdown",
   "id": "monetary-approach",
   "metadata": {},
   "source": [
    "Q11.What does the sentence import areallyourpetsnamederic do?\n",
    "\n",
    "- Answer -That import statement imports a module named areallyourpetsnamederic.\n"
   ]
  },
  {
   "cell_type": "markdown",
   "id": "veterinary-sierra",
   "metadata": {},
   "source": [
    "Q12. If you had a bacon() feature in a spam module, what would you call it after importing spam?\n",
    "\n",
    "- Answer -To call the function bacon() which is in spam module after importing spam module we can use spam.bacon().\n"
   ]
  },
  {
   "cell_type": "markdown",
   "id": "pleased-slovenia",
   "metadata": {},
   "source": [
    "Q13.What can you do to save a programme from crashing if it encounters an error?\n",
    "\n",
    "- Answer -We can place the code which we thing can encounter a error in try block, this method is called as exception handling.\n"
   ]
  },
  {
   "cell_type": "markdown",
   "id": "recovered-python",
   "metadata": {},
   "source": [
    "Q14.What is the purpose of the try clause? What is the purpose of the except clause?\n",
    "\n",
    "- Answer -Try clause is used to encapsulate the code which we feel can encounter a problem and in except clause we encapsulate the code which runs whent we face a problem in the code that is present in try clause."
   ]
  },
  {
   "cell_type": "code",
   "execution_count": null,
   "id": "f51f837c",
   "metadata": {},
   "outputs": [],
   "source": []
  }
 ],
 "metadata": {
  "kernelspec": {
   "display_name": "Python 3",
   "language": "python",
   "name": "python3"
  },
  "language_info": {
   "codemirror_mode": {
    "name": "ipython",
    "version": 3
   },
   "file_extension": ".py",
   "mimetype": "text/x-python",
   "name": "python",
   "nbconvert_exporter": "python",
   "pygments_lexer": "ipython3",
   "version": "3.8.8"
  },
  "toc": {
   "base_numbering": 1,
   "nav_menu": {},
   "number_sections": true,
   "sideBar": true,
   "skip_h1_title": false,
   "title_cell": "Table of Contents",
   "title_sidebar": "Contents",
   "toc_cell": false,
   "toc_position": {},
   "toc_section_display": true,
   "toc_window_display": false
  }
 },
 "nbformat": 4,
 "nbformat_minor": 5
}
